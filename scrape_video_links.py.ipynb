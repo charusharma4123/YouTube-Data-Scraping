{
 "cells": [
  {
   "cell_type": "code",
   "execution_count": 1,
   "id": "9ca8db1f",
   "metadata": {},
   "outputs": [],
   "source": [
    "import numpy as np\n",
    "import pandas as pd\n",
    "\n",
    "\n",
    "import chromedriver_binary\n",
    "from bs4 import BeautifulSoup\n",
    "from selenium import webdriver\n",
    "from selenium.webdriver.chrome.service import Service"
   ]
  },
  {
   "cell_type": "code",
   "execution_count": 2,
   "id": "dc25721d",
   "metadata": {},
   "outputs": [],
   "source": [
    "# Specify the path to the ChromeDriver executable\n",
    "chrome_driver_path = r'C:\\STUDY\\DataScience_Course\\Web_Scraping\\Web_driver\\chromedriver-win64\\chromedriver.exe'\n",
    "\n",
    "# Create a new Service instance with the specified path\n",
    "service = Service(chrome_driver_path)\n",
    "\n",
    "# Initialize Chrome WebDriver with the service\n",
    "browser = webdriver.Chrome(service=service)\n",
    "\n",
    "# Navigate to the specified URL\n",
    "browser.get('https://www.youtube.com/c/GeeksforGeeksVideos/videos')"
   ]
  },
  {
   "cell_type": "code",
   "execution_count": 17,
   "id": "29b1ff34",
   "metadata": {},
   "outputs": [],
   "source": [
    "soup = BeautifulSoup(browser.page_source, 'html.parser')"
   ]
  },
  {
   "cell_type": "code",
   "execution_count": 22,
   "id": "07fc1d16",
   "metadata": {},
   "outputs": [],
   "source": [
    "data = []\n",
    "\n",
    "for sp in soup.find_all('ytd-rich-item-renderer'):\n",
    "\n",
    "    title = sp.find('a', class_ = 'yt-simple-endpoint focus-on-expand style-scope ytd-rich-grid-media').text\n",
    "\n",
    "    video_link = sp.find('a', class_ = 'yt-simple-endpoint focus-on-expand style-scope ytd-rich-grid-media').get('href')\n",
    "\n",
    "    try:\n",
    "        views  = sp.find_all('span', class_ = 'inline-metadata-item style-scope ytd-video-meta-block')[0].text\n",
    "    except:\n",
    "        views  = np.nan\n",
    "\n",
    "    try:\n",
    "        date_time  = sp.find_all('span', class_='inline-metadata-item style-scope ytd-video-meta-block')[1].text\n",
    "    except:\n",
    "        date_time  = np.nan\n",
    "\n",
    "    try:\n",
    "        thumbnail_link = sp.find('img').get('src').split('?')[0]\n",
    "    except:\n",
    "        thumbnail_link = np.nan\n",
    "        \n",
    "    data.append([title, views, date_time, video_link, thumbnail_link])"
   ]
  },
  {
   "cell_type": "code",
   "execution_count": 23,
   "id": "b6ad142d",
   "metadata": {},
   "outputs": [
    {
     "data": {
      "text/plain": [
       "1805"
      ]
     },
     "execution_count": 23,
     "metadata": {},
     "output_type": "execute_result"
    }
   ],
   "source": [
    "len(data)"
   ]
  },
  {
   "cell_type": "code",
   "execution_count": 25,
   "id": "cde1a2bc",
   "metadata": {},
   "outputs": [
    {
     "data": {
      "text/plain": [
       "['Is coding worth it in 2024? 😥 | AI better than coders? | Tech Layoffs & Recession',\n",
       " '1.6K views',\n",
       " '1 day ago',\n",
       " '/watch?v=GD8xHjxnyK8',\n",
       " 'https://i.ytimg.com/vi/GD8xHjxnyK8/hqdefault.jpg']"
      ]
     },
     "execution_count": 25,
     "metadata": {},
     "output_type": "execute_result"
    }
   ],
   "source": [
    "data[0]"
   ]
  },
  {
   "cell_type": "code",
   "execution_count": 26,
   "id": "3b09726a",
   "metadata": {},
   "outputs": [],
   "source": [
    "df = pd.DataFrame(data, columns = ['title','views','date_time','video_link','thumbnail_link'])"
   ]
  },
  {
   "cell_type": "code",
   "execution_count": 27,
   "id": "532c1739",
   "metadata": {},
   "outputs": [
    {
     "data": {
      "text/html": [
       "<div>\n",
       "<style scoped>\n",
       "    .dataframe tbody tr th:only-of-type {\n",
       "        vertical-align: middle;\n",
       "    }\n",
       "\n",
       "    .dataframe tbody tr th {\n",
       "        vertical-align: top;\n",
       "    }\n",
       "\n",
       "    .dataframe thead th {\n",
       "        text-align: right;\n",
       "    }\n",
       "</style>\n",
       "<table border=\"1\" class=\"dataframe\">\n",
       "  <thead>\n",
       "    <tr style=\"text-align: right;\">\n",
       "      <th></th>\n",
       "      <th>title</th>\n",
       "      <th>views</th>\n",
       "      <th>date_time</th>\n",
       "      <th>video_link</th>\n",
       "      <th>thumbnail_link</th>\n",
       "    </tr>\n",
       "  </thead>\n",
       "  <tbody>\n",
       "    <tr>\n",
       "      <th>0</th>\n",
       "      <td>Is coding worth it in 2024? 😥 | AI better than...</td>\n",
       "      <td>1.6K views</td>\n",
       "      <td>1 day ago</td>\n",
       "      <td>/watch?v=GD8xHjxnyK8</td>\n",
       "      <td>https://i.ytimg.com/vi/GD8xHjxnyK8/hqdefault.jpg</td>\n",
       "    </tr>\n",
       "    <tr>\n",
       "      <th>1</th>\n",
       "      <td>Build a Food Delivery Website using React.js |...</td>\n",
       "      <td>1.3K views</td>\n",
       "      <td>2 days ago</td>\n",
       "      <td>/watch?v=bd5DewlahnE</td>\n",
       "      <td>https://i.ytimg.com/vi/bd5DewlahnE/hqdefault.jpg</td>\n",
       "    </tr>\n",
       "    <tr>\n",
       "      <th>2</th>\n",
       "      <td>5 Ways to Prepare for Layoffs in 2024! | AI To...</td>\n",
       "      <td>1.2K views</td>\n",
       "      <td>3 days ago</td>\n",
       "      <td>/watch?v=XbG-Z0gxrjs</td>\n",
       "      <td>https://i.ytimg.com/vi/XbG-Z0gxrjs/hqdefault.jpg</td>\n",
       "    </tr>\n",
       "    <tr>\n",
       "      <th>3</th>\n",
       "      <td>Build a 3D Solar System App for Vision Pro | X...</td>\n",
       "      <td>801 views</td>\n",
       "      <td>5 days ago</td>\n",
       "      <td>/watch?v=zPJP8OsxaDs</td>\n",
       "      <td>https://i.ytimg.com/vi/zPJP8OsxaDs/hqdefault.jpg</td>\n",
       "    </tr>\n",
       "    <tr>\n",
       "      <th>4</th>\n",
       "      <td>Get Hired From Linkedin in 2024 | Best Linkedi...</td>\n",
       "      <td>2.4K views</td>\n",
       "      <td>6 days ago</td>\n",
       "      <td>/watch?v=2QbhA2mthy0</td>\n",
       "      <td>https://i.ytimg.com/vi/2QbhA2mthy0/hqdefault.jpg</td>\n",
       "    </tr>\n",
       "    <tr>\n",
       "      <th>...</th>\n",
       "      <td>...</td>\n",
       "      <td>...</td>\n",
       "      <td>...</td>\n",
       "      <td>...</td>\n",
       "      <td>...</td>\n",
       "    </tr>\n",
       "    <tr>\n",
       "      <th>1800</th>\n",
       "      <td>Length of shortest chain to reach a target wor...</td>\n",
       "      <td>42K views</td>\n",
       "      <td>8 years ago</td>\n",
       "      <td>/watch?v=6pIC20wCm20</td>\n",
       "      <td>https://i.ytimg.com/vi/6pIC20wCm20/hqdefault.jpg</td>\n",
       "    </tr>\n",
       "    <tr>\n",
       "      <th>1801</th>\n",
       "      <td>Binary Search | GeeksQuiz</td>\n",
       "      <td>190K views</td>\n",
       "      <td>8 years ago</td>\n",
       "      <td>/watch?v=T2sFYY-fT5o</td>\n",
       "      <td>https://i.ytimg.com/vi/T2sFYY-fT5o/hqdefault.jpg</td>\n",
       "    </tr>\n",
       "    <tr>\n",
       "      <th>1802</th>\n",
       "      <td>Number of Triangles in an Undirected Graph | G...</td>\n",
       "      <td>19K views</td>\n",
       "      <td>8 years ago</td>\n",
       "      <td>/watch?v=ChdNz1Ui1uc</td>\n",
       "      <td>https://i.ytimg.com/vi/ChdNz1Ui1uc/hqdefault.jpg</td>\n",
       "    </tr>\n",
       "    <tr>\n",
       "      <th>1803</th>\n",
       "      <td>Write a program to print all permutations of a...</td>\n",
       "      <td>486K views</td>\n",
       "      <td>8 years ago</td>\n",
       "      <td>/watch?v=AfxHGNRtFac</td>\n",
       "      <td>https://i.ytimg.com/vi/AfxHGNRtFac/hqdefault.jpg</td>\n",
       "    </tr>\n",
       "    <tr>\n",
       "      <th>1804</th>\n",
       "      <td>Longest Span with same Sum in two Binary array...</td>\n",
       "      <td>298K views</td>\n",
       "      <td>8 years ago</td>\n",
       "      <td>/watch?v=xtfj4-r_Ahs</td>\n",
       "      <td>https://i.ytimg.com/vi/xtfj4-r_Ahs/hqdefault.jpg</td>\n",
       "    </tr>\n",
       "  </tbody>\n",
       "</table>\n",
       "<p>1805 rows × 5 columns</p>\n",
       "</div>"
      ],
      "text/plain": [
       "                                                  title       views  \\\n",
       "0     Is coding worth it in 2024? 😥 | AI better than...  1.6K views   \n",
       "1     Build a Food Delivery Website using React.js |...  1.3K views   \n",
       "2     5 Ways to Prepare for Layoffs in 2024! | AI To...  1.2K views   \n",
       "3     Build a 3D Solar System App for Vision Pro | X...   801 views   \n",
       "4     Get Hired From Linkedin in 2024 | Best Linkedi...  2.4K views   \n",
       "...                                                 ...         ...   \n",
       "1800  Length of shortest chain to reach a target wor...   42K views   \n",
       "1801                          Binary Search | GeeksQuiz  190K views   \n",
       "1802  Number of Triangles in an Undirected Graph | G...   19K views   \n",
       "1803  Write a program to print all permutations of a...  486K views   \n",
       "1804  Longest Span with same Sum in two Binary array...  298K views   \n",
       "\n",
       "        date_time            video_link  \\\n",
       "0       1 day ago  /watch?v=GD8xHjxnyK8   \n",
       "1      2 days ago  /watch?v=bd5DewlahnE   \n",
       "2      3 days ago  /watch?v=XbG-Z0gxrjs   \n",
       "3      5 days ago  /watch?v=zPJP8OsxaDs   \n",
       "4      6 days ago  /watch?v=2QbhA2mthy0   \n",
       "...           ...                   ...   \n",
       "1800  8 years ago  /watch?v=6pIC20wCm20   \n",
       "1801  8 years ago  /watch?v=T2sFYY-fT5o   \n",
       "1802  8 years ago  /watch?v=ChdNz1Ui1uc   \n",
       "1803  8 years ago  /watch?v=AfxHGNRtFac   \n",
       "1804  8 years ago  /watch?v=xtfj4-r_Ahs   \n",
       "\n",
       "                                        thumbnail_link  \n",
       "0     https://i.ytimg.com/vi/GD8xHjxnyK8/hqdefault.jpg  \n",
       "1     https://i.ytimg.com/vi/bd5DewlahnE/hqdefault.jpg  \n",
       "2     https://i.ytimg.com/vi/XbG-Z0gxrjs/hqdefault.jpg  \n",
       "3     https://i.ytimg.com/vi/zPJP8OsxaDs/hqdefault.jpg  \n",
       "4     https://i.ytimg.com/vi/2QbhA2mthy0/hqdefault.jpg  \n",
       "...                                                ...  \n",
       "1800  https://i.ytimg.com/vi/6pIC20wCm20/hqdefault.jpg  \n",
       "1801  https://i.ytimg.com/vi/T2sFYY-fT5o/hqdefault.jpg  \n",
       "1802  https://i.ytimg.com/vi/ChdNz1Ui1uc/hqdefault.jpg  \n",
       "1803  https://i.ytimg.com/vi/AfxHGNRtFac/hqdefault.jpg  \n",
       "1804  https://i.ytimg.com/vi/xtfj4-r_Ahs/hqdefault.jpg  \n",
       "\n",
       "[1805 rows x 5 columns]"
      ]
     },
     "execution_count": 27,
     "metadata": {},
     "output_type": "execute_result"
    }
   ],
   "source": [
    "df"
   ]
  },
  {
   "cell_type": "code",
   "execution_count": 28,
   "id": "3b36cf89",
   "metadata": {},
   "outputs": [
    {
     "data": {
      "text/plain": [
       "title             0\n",
       "views             0\n",
       "date_time         0\n",
       "video_link        0\n",
       "thumbnail_link    0\n",
       "dtype: int64"
      ]
     },
     "execution_count": 28,
     "metadata": {},
     "output_type": "execute_result"
    }
   ],
   "source": [
    "df.isnull().sum()"
   ]
  },
  {
   "cell_type": "code",
   "execution_count": 29,
   "id": "73885f46",
   "metadata": {},
   "outputs": [],
   "source": [
    "df.to_csv('C:\\STUDY\\DataScience_Course\\Web_Scraping\\Youtube_data.csv',index = False)"
   ]
  },
  {
   "cell_type": "code",
   "execution_count": null,
   "id": "0d38f0ee",
   "metadata": {},
   "outputs": [],
   "source": []
  }
 ],
 "metadata": {
  "kernelspec": {
   "display_name": "Python 3 (ipykernel)",
   "language": "python",
   "name": "python3"
  },
  "language_info": {
   "codemirror_mode": {
    "name": "ipython",
    "version": 3
   },
   "file_extension": ".py",
   "mimetype": "text/x-python",
   "name": "python",
   "nbconvert_exporter": "python",
   "pygments_lexer": "ipython3",
   "version": "3.11.3"
  }
 },
 "nbformat": 4,
 "nbformat_minor": 5
}
