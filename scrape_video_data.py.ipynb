{
 "cells": [
  {
   "cell_type": "code",
   "execution_count": 1,
   "id": "e3aae175",
   "metadata": {},
   "outputs": [],
   "source": [
    "import time\n",
    "import numpy as np\n",
    "import pandas as pd\n",
    "from tqdm import tqdm\n",
    "\n",
    "from bs4 import BeautifulSoup\n",
    "from selenium import webdriver\n",
    "\n",
    "import chromedriver_binary\n",
    "from selenium.webdriver.chrome.service import Service"
   ]
  },
  {
   "cell_type": "code",
   "execution_count": 2,
   "id": "3e6e14b3",
   "metadata": {},
   "outputs": [
    {
     "data": {
      "text/html": [
       "<div>\n",
       "<style scoped>\n",
       "    .dataframe tbody tr th:only-of-type {\n",
       "        vertical-align: middle;\n",
       "    }\n",
       "\n",
       "    .dataframe tbody tr th {\n",
       "        vertical-align: top;\n",
       "    }\n",
       "\n",
       "    .dataframe thead th {\n",
       "        text-align: right;\n",
       "    }\n",
       "</style>\n",
       "<table border=\"1\" class=\"dataframe\">\n",
       "  <thead>\n",
       "    <tr style=\"text-align: right;\">\n",
       "      <th></th>\n",
       "      <th>title</th>\n",
       "      <th>views</th>\n",
       "      <th>date_time</th>\n",
       "      <th>video_link</th>\n",
       "      <th>thumbnail_link</th>\n",
       "    </tr>\n",
       "  </thead>\n",
       "  <tbody>\n",
       "    <tr>\n",
       "      <th>0</th>\n",
       "      <td>Is coding worth it in 2024? 😥 | AI better than...</td>\n",
       "      <td>1.6K views</td>\n",
       "      <td>1 day ago</td>\n",
       "      <td>/watch?v=GD8xHjxnyK8</td>\n",
       "      <td>https://i.ytimg.com/vi/GD8xHjxnyK8/hqdefault.jpg</td>\n",
       "    </tr>\n",
       "    <tr>\n",
       "      <th>1</th>\n",
       "      <td>Build a Food Delivery Website using React.js |...</td>\n",
       "      <td>1.3K views</td>\n",
       "      <td>2 days ago</td>\n",
       "      <td>/watch?v=bd5DewlahnE</td>\n",
       "      <td>https://i.ytimg.com/vi/bd5DewlahnE/hqdefault.jpg</td>\n",
       "    </tr>\n",
       "    <tr>\n",
       "      <th>2</th>\n",
       "      <td>5 Ways to Prepare for Layoffs in 2024! | AI To...</td>\n",
       "      <td>1.2K views</td>\n",
       "      <td>3 days ago</td>\n",
       "      <td>/watch?v=XbG-Z0gxrjs</td>\n",
       "      <td>https://i.ytimg.com/vi/XbG-Z0gxrjs/hqdefault.jpg</td>\n",
       "    </tr>\n",
       "    <tr>\n",
       "      <th>3</th>\n",
       "      <td>Build a 3D Solar System App for Vision Pro | X...</td>\n",
       "      <td>801 views</td>\n",
       "      <td>5 days ago</td>\n",
       "      <td>/watch?v=zPJP8OsxaDs</td>\n",
       "      <td>https://i.ytimg.com/vi/zPJP8OsxaDs/hqdefault.jpg</td>\n",
       "    </tr>\n",
       "    <tr>\n",
       "      <th>4</th>\n",
       "      <td>Get Hired From Linkedin in 2024 | Best Linkedi...</td>\n",
       "      <td>2.4K views</td>\n",
       "      <td>6 days ago</td>\n",
       "      <td>/watch?v=2QbhA2mthy0</td>\n",
       "      <td>https://i.ytimg.com/vi/2QbhA2mthy0/hqdefault.jpg</td>\n",
       "    </tr>\n",
       "  </tbody>\n",
       "</table>\n",
       "</div>"
      ],
      "text/plain": [
       "                                               title       views   date_time  \\\n",
       "0  Is coding worth it in 2024? 😥 | AI better than...  1.6K views   1 day ago   \n",
       "1  Build a Food Delivery Website using React.js |...  1.3K views  2 days ago   \n",
       "2  5 Ways to Prepare for Layoffs in 2024! | AI To...  1.2K views  3 days ago   \n",
       "3  Build a 3D Solar System App for Vision Pro | X...   801 views  5 days ago   \n",
       "4  Get Hired From Linkedin in 2024 | Best Linkedi...  2.4K views  6 days ago   \n",
       "\n",
       "             video_link                                    thumbnail_link  \n",
       "0  /watch?v=GD8xHjxnyK8  https://i.ytimg.com/vi/GD8xHjxnyK8/hqdefault.jpg  \n",
       "1  /watch?v=bd5DewlahnE  https://i.ytimg.com/vi/bd5DewlahnE/hqdefault.jpg  \n",
       "2  /watch?v=XbG-Z0gxrjs  https://i.ytimg.com/vi/XbG-Z0gxrjs/hqdefault.jpg  \n",
       "3  /watch?v=zPJP8OsxaDs  https://i.ytimg.com/vi/zPJP8OsxaDs/hqdefault.jpg  \n",
       "4  /watch?v=2QbhA2mthy0  https://i.ytimg.com/vi/2QbhA2mthy0/hqdefault.jpg  "
      ]
     },
     "execution_count": 2,
     "metadata": {},
     "output_type": "execute_result"
    }
   ],
   "source": [
    "df = pd.read_csv('C:\\STUDY\\DataScience_Course\\Web_Scraping\\Youtube_data.csv')\n",
    "\n",
    "df.head()"
   ]
  },
  {
   "cell_type": "code",
   "execution_count": 19,
   "id": "355c7feb",
   "metadata": {
    "scrolled": true
   },
   "outputs": [
    {
     "name": "stderr",
     "output_type": "stream",
     "text": [
      "100%|████████████████████████████████████████████████████████████████████████████| 1805/1805 [3:48:06<00:00,  7.58s/it]\n"
     ]
    }
   ],
   "source": [
    "# Specify the path to the ChromeDriver executable\n",
    "chrome_driver_path = r'C:\\STUDY\\DataScience_Course\\Web_Scraping\\Web_driver\\chromedriver-win64\\chromedriver.exe'\n",
    "# Create a new Service instance with the specified path\n",
    "service = Service(chrome_driver_path)\n",
    "# Initialize Chrome WebDriver with the service\n",
    "browser = webdriver.Chrome(service=service)\n",
    "# Navigate to the specified URL\n",
    "browser.get('https://www.youtube.com')\n",
    "time.sleep(2)\n",
    "\n",
    "\n",
    "data = []\n",
    "for link in tqdm(df['video_link']):\n",
    "    \n",
    "    link = 'https://www.youtube.com' + link\n",
    "    browser.get(link)\n",
    "    \n",
    "    time.sleep(5)\n",
    "    \n",
    "    soup = BeautifulSoup(browser.page_source, 'html.parser')\n",
    "    \n",
    "# View\n",
    "    try:\n",
    "        views = soup.find('span', class_='bold style-scope yt-formatted-string').text\n",
    "    except (IndexError, AttributeError):\n",
    "        try:\n",
    "            views = soup.find('span', class_='style-scope yt-formatted-string bold').text\n",
    "        except (IndexError, AttributeError):\n",
    "            views = None\n",
    "    if views is None:\n",
    "        views = np.nan\n",
    "# Title   \n",
    "    try:\n",
    "        title = soup.find('yt-formatted-string', class_ = 'style-scope ytd-watch-metadata').text\n",
    "    except:\n",
    "        title = np.nan\n",
    "# Date_Time\n",
    "    try:\n",
    "        date_time = soup.find_all('span' , class_ = 'bold style-scope yt-formatted-string')[2].text\n",
    "    except (IndexError, AttributeError):\n",
    "        try:\n",
    "            date_time = soup.find_all('span' , class_ = 'style-scope yt-formatted-string bold')[2].text\n",
    "        except (IndexError, AttributeError):\n",
    "            date_time = None\n",
    "    if date_time is None:\n",
    "        date_time = np.nan\n",
    "# Like\n",
    "    try:\n",
    "        likes = soup.find('button', class_ = 'yt-spec-button-shape-next yt-spec-button-shape-next--tonal yt-spec-button-shape-next--mono yt-spec-button-shape-next--size-m yt-spec-button-shape-next--icon-leading yt-spec-button-shape-next--segmented-start').text\n",
    "    except:\n",
    "        likes = np.nan\n",
    "# Description\n",
    "    try:\n",
    "        description = soup.find_all('span', class_='yt-core-attributed-string yt-core-attributed-string--white-space-pre-wrap')[7].text\n",
    "    except:\n",
    "        description = np.nan\n",
    "    \n",
    "    \n",
    "    data.append([title , date_time, likes, views, link, description])\n",
    "    \n"
   ]
  },
  {
   "cell_type": "code",
   "execution_count": 20,
   "id": "7c24d71c",
   "metadata": {},
   "outputs": [
    {
     "data": {
      "text/plain": [
       "1805"
      ]
     },
     "execution_count": 20,
     "metadata": {},
     "output_type": "execute_result"
    }
   ],
   "source": [
    "len(data)"
   ]
  },
  {
   "cell_type": "code",
   "execution_count": 21,
   "id": "9c41620e",
   "metadata": {
    "scrolled": false
   },
   "outputs": [],
   "source": [
    "df = pd.DataFrame(data, columns = ['title' , 'date_time', 'likes', 'views', 'link' , 'description'])"
   ]
  },
  {
   "cell_type": "code",
   "execution_count": 22,
   "id": "ab6125e1",
   "metadata": {},
   "outputs": [
    {
     "data": {
      "text/plain": [
       "title           2\n",
       "date_time       2\n",
       "likes           2\n",
       "views           2\n",
       "link            0\n",
       "description    48\n",
       "dtype: int64"
      ]
     },
     "execution_count": 22,
     "metadata": {},
     "output_type": "execute_result"
    }
   ],
   "source": [
    "df.isnull().sum()"
   ]
  },
  {
   "cell_type": "code",
   "execution_count": 23,
   "id": "bc562bf4",
   "metadata": {},
   "outputs": [],
   "source": [
    "df.to_csv('C:\\STUDY\\DataScience_Course\\Web_Scraping\\GFG_ytdata.csv', index = False)"
   ]
  },
  {
   "cell_type": "code",
   "execution_count": 24,
   "id": "fd6ed440",
   "metadata": {},
   "outputs": [
    {
     "data": {
      "text/html": [
       "<div>\n",
       "<style scoped>\n",
       "    .dataframe tbody tr th:only-of-type {\n",
       "        vertical-align: middle;\n",
       "    }\n",
       "\n",
       "    .dataframe tbody tr th {\n",
       "        vertical-align: top;\n",
       "    }\n",
       "\n",
       "    .dataframe thead th {\n",
       "        text-align: right;\n",
       "    }\n",
       "</style>\n",
       "<table border=\"1\" class=\"dataframe\">\n",
       "  <thead>\n",
       "    <tr style=\"text-align: right;\">\n",
       "      <th></th>\n",
       "      <th>title</th>\n",
       "      <th>date_time</th>\n",
       "      <th>likes</th>\n",
       "      <th>views</th>\n",
       "      <th>link</th>\n",
       "      <th>description</th>\n",
       "    </tr>\n",
       "  </thead>\n",
       "  <tbody>\n",
       "    <tr>\n",
       "      <th>0</th>\n",
       "      <td>Is coding worth it in 2024? 😥 | AI better than...</td>\n",
       "      <td>7 days ago</td>\n",
       "      <td>133</td>\n",
       "      <td>2.4K views</td>\n",
       "      <td>https://www.youtube.com/watch?v=GD8xHjxnyK8</td>\n",
       "      <td>Is coding worth it in 2024? 😥 | AI better than...</td>\n",
       "    </tr>\n",
       "    <tr>\n",
       "      <th>1</th>\n",
       "      <td>Build a Food Delivery Website using React.js |...</td>\n",
       "      <td>7 days ago</td>\n",
       "      <td>91</td>\n",
       "      <td>2K views</td>\n",
       "      <td>https://www.youtube.com/watch?v=bd5DewlahnE</td>\n",
       "      <td>Likes</td>\n",
       "    </tr>\n",
       "    <tr>\n",
       "      <th>2</th>\n",
       "      <td>5 Ways to Prepare for Layoffs in 2024! | AI To...</td>\n",
       "      <td>Apr 12, 2024</td>\n",
       "      <td>75</td>\n",
       "      <td>1,551 views</td>\n",
       "      <td>https://www.youtube.com/watch?v=XbG-Z0gxrjs</td>\n",
       "      <td>Views</td>\n",
       "    </tr>\n",
       "    <tr>\n",
       "      <th>3</th>\n",
       "      <td>Build a 3D Solar System App for Vision Pro | X...</td>\n",
       "      <td>Apr 10, 2024</td>\n",
       "      <td>23</td>\n",
       "      <td>844 views</td>\n",
       "      <td>https://www.youtube.com/watch?v=zPJP8OsxaDs</td>\n",
       "      <td>Views</td>\n",
       "    </tr>\n",
       "    <tr>\n",
       "      <th>4</th>\n",
       "      <td>Get Hired From Linkedin in 2024 | Best Linkedi...</td>\n",
       "      <td>12 days ago</td>\n",
       "      <td>184</td>\n",
       "      <td>2.6K views</td>\n",
       "      <td>https://www.youtube.com/watch?v=2QbhA2mthy0</td>\n",
       "      <td>Get Hired From Linkedin in 2024 | Best Linkedi...</td>\n",
       "    </tr>\n",
       "    <tr>\n",
       "      <th>...</th>\n",
       "      <td>...</td>\n",
       "      <td>...</td>\n",
       "      <td>...</td>\n",
       "      <td>...</td>\n",
       "      <td>...</td>\n",
       "      <td>...</td>\n",
       "    </tr>\n",
       "    <tr>\n",
       "      <th>1800</th>\n",
       "      <td>Length of shortest chain to reach a target wor...</td>\n",
       "      <td>8 years ago</td>\n",
       "      <td>155</td>\n",
       "      <td>42K views</td>\n",
       "      <td>https://www.youtube.com/watch?v=6pIC20wCm20</td>\n",
       "      <td>Explanation for the article: http://www.geeksf...</td>\n",
       "    </tr>\n",
       "    <tr>\n",
       "      <th>1801</th>\n",
       "      <td>Binary Search | GeeksQuiz</td>\n",
       "      <td>8 years ago</td>\n",
       "      <td>834</td>\n",
       "      <td>190K views</td>\n",
       "      <td>https://www.youtube.com/watch?v=T2sFYY-fT5o</td>\n",
       "      <td>Explanation for the article: http://geeksquiz....</td>\n",
       "    </tr>\n",
       "    <tr>\n",
       "      <th>1802</th>\n",
       "      <td>Number of Triangles in an Undirected Graph | G...</td>\n",
       "      <td>8 years ago</td>\n",
       "      <td>79</td>\n",
       "      <td>19K views</td>\n",
       "      <td>https://www.youtube.com/watch?v=ChdNz1Ui1uc</td>\n",
       "      <td>Explanation for the article: http://www.geeksf...</td>\n",
       "    </tr>\n",
       "    <tr>\n",
       "      <th>1803</th>\n",
       "      <td>Write a program to print all permutations of a...</td>\n",
       "      <td>8 years ago</td>\n",
       "      <td>2K</td>\n",
       "      <td>486K views</td>\n",
       "      <td>https://www.youtube.com/watch?v=AfxHGNRtFac</td>\n",
       "      <td>Explanation for the Article: http://www.geeksf...</td>\n",
       "    </tr>\n",
       "    <tr>\n",
       "      <th>1804</th>\n",
       "      <td>Longest Span with same Sum in two Binary array...</td>\n",
       "      <td>8 years ago</td>\n",
       "      <td>1.5K</td>\n",
       "      <td>299K views</td>\n",
       "      <td>https://www.youtube.com/watch?v=xtfj4-r_Ahs</td>\n",
       "      <td>Here's you next clue  - Our comprehensive guid...</td>\n",
       "    </tr>\n",
       "  </tbody>\n",
       "</table>\n",
       "<p>1805 rows × 6 columns</p>\n",
       "</div>"
      ],
      "text/plain": [
       "                                                  title     date_time likes  \\\n",
       "0     Is coding worth it in 2024? 😥 | AI better than...    7 days ago   133   \n",
       "1     Build a Food Delivery Website using React.js |...    7 days ago    91   \n",
       "2     5 Ways to Prepare for Layoffs in 2024! | AI To...  Apr 12, 2024    75   \n",
       "3     Build a 3D Solar System App for Vision Pro | X...  Apr 10, 2024    23   \n",
       "4     Get Hired From Linkedin in 2024 | Best Linkedi...   12 days ago   184   \n",
       "...                                                 ...           ...   ...   \n",
       "1800  Length of shortest chain to reach a target wor...   8 years ago   155   \n",
       "1801                          Binary Search | GeeksQuiz   8 years ago   834   \n",
       "1802  Number of Triangles in an Undirected Graph | G...   8 years ago    79   \n",
       "1803  Write a program to print all permutations of a...   8 years ago    2K   \n",
       "1804  Longest Span with same Sum in two Binary array...   8 years ago  1.5K   \n",
       "\n",
       "            views                                         link  \\\n",
       "0      2.4K views  https://www.youtube.com/watch?v=GD8xHjxnyK8   \n",
       "1        2K views  https://www.youtube.com/watch?v=bd5DewlahnE   \n",
       "2     1,551 views  https://www.youtube.com/watch?v=XbG-Z0gxrjs   \n",
       "3       844 views  https://www.youtube.com/watch?v=zPJP8OsxaDs   \n",
       "4      2.6K views  https://www.youtube.com/watch?v=2QbhA2mthy0   \n",
       "...           ...                                          ...   \n",
       "1800    42K views  https://www.youtube.com/watch?v=6pIC20wCm20   \n",
       "1801   190K views  https://www.youtube.com/watch?v=T2sFYY-fT5o   \n",
       "1802    19K views  https://www.youtube.com/watch?v=ChdNz1Ui1uc   \n",
       "1803   486K views  https://www.youtube.com/watch?v=AfxHGNRtFac   \n",
       "1804   299K views  https://www.youtube.com/watch?v=xtfj4-r_Ahs   \n",
       "\n",
       "                                            description  \n",
       "0     Is coding worth it in 2024? 😥 | AI better than...  \n",
       "1                                                 Likes  \n",
       "2                                                 Views  \n",
       "3                                                 Views  \n",
       "4     Get Hired From Linkedin in 2024 | Best Linkedi...  \n",
       "...                                                 ...  \n",
       "1800  Explanation for the article: http://www.geeksf...  \n",
       "1801  Explanation for the article: http://geeksquiz....  \n",
       "1802  Explanation for the article: http://www.geeksf...  \n",
       "1803  Explanation for the Article: http://www.geeksf...  \n",
       "1804  Here's you next clue  - Our comprehensive guid...  \n",
       "\n",
       "[1805 rows x 6 columns]"
      ]
     },
     "execution_count": 24,
     "metadata": {},
     "output_type": "execute_result"
    }
   ],
   "source": [
    "df"
   ]
  },
  {
   "cell_type": "code",
   "execution_count": 5,
   "id": "f841c7bc",
   "metadata": {},
   "outputs": [
    {
     "data": {
      "text/plain": [
       "9025"
      ]
     },
     "execution_count": 5,
     "metadata": {},
     "output_type": "execute_result"
    }
   ],
   "source": [
    "1805*5"
   ]
  },
  {
   "cell_type": "code",
   "execution_count": 6,
   "id": "54a4c7a1",
   "metadata": {},
   "outputs": [
    {
     "data": {
      "text/plain": [
       "150.41666666666666"
      ]
     },
     "execution_count": 6,
     "metadata": {},
     "output_type": "execute_result"
    }
   ],
   "source": [
    "9025/60"
   ]
  },
  {
   "cell_type": "code",
   "execution_count": 7,
   "id": "30f26c38",
   "metadata": {},
   "outputs": [
    {
     "data": {
      "text/plain": [
       "2.5"
      ]
     },
     "execution_count": 7,
     "metadata": {},
     "output_type": "execute_result"
    }
   ],
   "source": [
    "150/60"
   ]
  },
  {
   "cell_type": "code",
   "execution_count": null,
   "id": "1dd974bc",
   "metadata": {},
   "outputs": [],
   "source": []
  }
 ],
 "metadata": {
  "kernelspec": {
   "display_name": "Python 3 (ipykernel)",
   "language": "python",
   "name": "python3"
  },
  "language_info": {
   "codemirror_mode": {
    "name": "ipython",
    "version": 3
   },
   "file_extension": ".py",
   "mimetype": "text/x-python",
   "name": "python",
   "nbconvert_exporter": "python",
   "pygments_lexer": "ipython3",
   "version": "3.11.3"
  }
 },
 "nbformat": 4,
 "nbformat_minor": 5
}
